{
 "cells": [
  {
   "cell_type": "markdown",
   "metadata": {},
   "source": [
    "### Phase 2 - Data Preparation & Transformation (Flipkart Smartphone Dataset)\n",
    "\n",
    "**Project Objective**  \n",
    "\n",
    "The purpose of Phase 2 is to prepare the cleaned dataset for business visualization and analysis in Power BI. Instead of running a full-scale EDA, we focused on -\n",
    "\n",
    "- Evaluate and enhance data quality  \n",
    "- Handle missing values and duplicates  \n",
    "- Standardize and normalize feature formats  \n",
    "- Extract and engineer meaningful variables (RAM, ROM, Display, Battery, etc.)  \n",
    "- Capping outliers for consistency.\n",
    "- Structuring the dataset for direct integration with Power BI.  "
   ]
  },
  {
   "cell_type": "markdown",
   "metadata": {},
   "source": [
    "---"
   ]
  },
  {
   "cell_type": "markdown",
   "metadata": {},
   "source": [
    "Let’s set the stage by importing the essential libraries."
   ]
  },
  {
   "cell_type": "code",
   "execution_count": 2,
   "metadata": {},
   "outputs": [],
   "source": [
    "import pandas as pd\n",
    "import matplotlib.pyplot as plt\n",
    "import seaborn as sns\n",
    "import re"
   ]
  },
  {
   "cell_type": "markdown",
   "metadata": {},
   "source": [
    "### 1. Data Loading & Initial Overview"
   ]
  },
  {
   "cell_type": "markdown",
   "metadata": {},
   "source": [
    "Let’s take a first step by loading the CSV file."
   ]
  },
  {
   "cell_type": "code",
   "execution_count": 3,
   "metadata": {},
   "outputs": [],
   "source": [
    "df = pd.read_csv('flipkart_smartphones.csv')"
   ]
  },
  {
   "cell_type": "markdown",
   "metadata": {},
   "source": [
    "Let’s take a quick look at the first few rows of our dataset."
   ]
  },
  {
   "cell_type": "code",
   "execution_count": 4,
   "metadata": {},
   "outputs": [
    {
     "data": {
      "text/html": [
       "<div>\n",
       "<style scoped>\n",
       "    .dataframe tbody tr th:only-of-type {\n",
       "        vertical-align: middle;\n",
       "    }\n",
       "\n",
       "    .dataframe tbody tr th {\n",
       "        vertical-align: top;\n",
       "    }\n",
       "\n",
       "    .dataframe thead th {\n",
       "        text-align: right;\n",
       "    }\n",
       "</style>\n",
       "<table border=\"1\" class=\"dataframe\">\n",
       "  <thead>\n",
       "    <tr style=\"text-align: right;\">\n",
       "      <th></th>\n",
       "      <th>Name</th>\n",
       "      <th>Price</th>\n",
       "      <th>Discount</th>\n",
       "      <th>Rating</th>\n",
       "      <th>Specs</th>\n",
       "    </tr>\n",
       "  </thead>\n",
       "  <tbody>\n",
       "    <tr>\n",
       "      <th>0</th>\n",
       "      <td>Samsung Galaxy F05 (Twilight Blue, 64 GB)</td>\n",
       "      <td>6249</td>\n",
       "      <td>37% off</td>\n",
       "      <td>4.2</td>\n",
       "      <td>4 GB RAM | 64 GB ROM | Expandable Upto 1 TB; 1...</td>\n",
       "    </tr>\n",
       "    <tr>\n",
       "      <th>1</th>\n",
       "      <td>REDMI A3X (Ocean Green, 128 GB)</td>\n",
       "      <td>6499</td>\n",
       "      <td>40% off</td>\n",
       "      <td>4.1</td>\n",
       "      <td>4 GB RAM | 128 GB ROM | Expandable Upto 1 TB; ...</td>\n",
       "    </tr>\n",
       "    <tr>\n",
       "      <th>2</th>\n",
       "      <td>MOTOROLA g05 (Forest Green, 64 GB)</td>\n",
       "      <td>6999</td>\n",
       "      <td>30% off</td>\n",
       "      <td>4.2</td>\n",
       "      <td>4 GB RAM | 64 GB ROM | Expandable Upto 1 TB; 1...</td>\n",
       "    </tr>\n",
       "    <tr>\n",
       "      <th>3</th>\n",
       "      <td>POCO C71 (Power Black, 128 GB)</td>\n",
       "      <td>6999</td>\n",
       "      <td>30% off</td>\n",
       "      <td>4.1</td>\n",
       "      <td>6 GB RAM | 128 GB ROM | Expandable Upto 2 TB; ...</td>\n",
       "    </tr>\n",
       "    <tr>\n",
       "      <th>4</th>\n",
       "      <td>POCO C71 (Desert Gold, 128 GB)</td>\n",
       "      <td>6999</td>\n",
       "      <td>30% off</td>\n",
       "      <td>4.1</td>\n",
       "      <td>6 GB RAM | 128 GB ROM | Expandable Upto 2 TB; ...</td>\n",
       "    </tr>\n",
       "  </tbody>\n",
       "</table>\n",
       "</div>"
      ],
      "text/plain": [
       "                                        Name  Price Discount  Rating  \\\n",
       "0  Samsung Galaxy F05 (Twilight Blue, 64 GB)   6249  37% off     4.2   \n",
       "1            REDMI A3X (Ocean Green, 128 GB)   6499  40% off     4.1   \n",
       "2         MOTOROLA g05 (Forest Green, 64 GB)   6999  30% off     4.2   \n",
       "3             POCO C71 (Power Black, 128 GB)   6999  30% off     4.1   \n",
       "4             POCO C71 (Desert Gold, 128 GB)   6999  30% off     4.1   \n",
       "\n",
       "                                               Specs  \n",
       "0  4 GB RAM | 64 GB ROM | Expandable Upto 1 TB; 1...  \n",
       "1  4 GB RAM | 128 GB ROM | Expandable Upto 1 TB; ...  \n",
       "2  4 GB RAM | 64 GB ROM | Expandable Upto 1 TB; 1...  \n",
       "3  6 GB RAM | 128 GB ROM | Expandable Upto 2 TB; ...  \n",
       "4  6 GB RAM | 128 GB ROM | Expandable Upto 2 TB; ...  "
      ]
     },
     "execution_count": 4,
     "metadata": {},
     "output_type": "execute_result"
    }
   ],
   "source": [
    "df.head()"
   ]
  },
  {
   "cell_type": "markdown",
   "metadata": {},
   "source": [
    "Let’s explore the dataset’s structure."
   ]
  },
  {
   "cell_type": "code",
   "execution_count": 5,
   "metadata": {},
   "outputs": [
    {
     "name": "stdout",
     "output_type": "stream",
     "text": [
      "<class 'pandas.core.frame.DataFrame'>\n",
      "RangeIndex: 984 entries, 0 to 983\n",
      "Data columns (total 5 columns):\n",
      " #   Column    Non-Null Count  Dtype  \n",
      "---  ------    --------------  -----  \n",
      " 0   Name      984 non-null    object \n",
      " 1   Price     984 non-null    int64  \n",
      " 2   Discount  937 non-null    object \n",
      " 3   Rating    968 non-null    float64\n",
      " 4   Specs     984 non-null    object \n",
      "dtypes: float64(1), int64(1), object(3)\n",
      "memory usage: 38.6+ KB\n"
     ]
    }
   ],
   "source": [
    "df.info()"
   ]
  },
  {
   "cell_type": "markdown",
   "metadata": {},
   "source": [
    "Let’s check for missing values in the dataset."
   ]
  },
  {
   "cell_type": "code",
   "execution_count": 6,
   "metadata": {},
   "outputs": [
    {
     "data": {
      "text/plain": [
       "Name         0\n",
       "Price        0\n",
       "Discount    47\n",
       "Rating      16\n",
       "Specs        0\n",
       "dtype: int64"
      ]
     },
     "execution_count": 6,
     "metadata": {},
     "output_type": "execute_result"
    }
   ],
   "source": [
    "df.isnull().sum()"
   ]
  },
  {
   "cell_type": "markdown",
   "metadata": {},
   "source": [
    "Let’s see if there are any duplicate rows hiding in the data."
   ]
  },
  {
   "cell_type": "code",
   "execution_count": 7,
   "metadata": {},
   "outputs": [
    {
     "data": {
      "text/plain": [
       "np.int64(141)"
      ]
     },
     "execution_count": 7,
     "metadata": {},
     "output_type": "execute_result"
    }
   ],
   "source": [
    "df.duplicated().sum()"
   ]
  },
  {
   "cell_type": "markdown",
   "metadata": {},
   "source": [
    "Let’s Remove Duplicate Records for Data Consistency"
   ]
  },
  {
   "cell_type": "code",
   "execution_count": 8,
   "metadata": {},
   "outputs": [],
   "source": [
    "df.drop_duplicates(inplace=True)"
   ]
  },
  {
   "cell_type": "markdown",
   "metadata": {},
   "source": [
    "Let’s Handle Missing Values to Ensure Data Completeness"
   ]
  },
  {
   "cell_type": "code",
   "execution_count": 9,
   "metadata": {},
   "outputs": [
    {
     "name": "stdout",
     "output_type": "stream",
     "text": [
      "Null values in Price, Discount, and Rating handled successfully.\n"
     ]
    }
   ],
   "source": [
    "# 1. Fill missing Price with median\n",
    "df['Price'] = df['Price'].fillna(df['Price'].median())\n",
    "\n",
    "# 2. Fill missing Discount with 0 (since it means no discount info given)\n",
    "df['Discount'] = df['Discount'].fillna(0)\n",
    "\n",
    "# 3. Fill missing Rating with brand-wise mean, then global mean if still null\n",
    "df['Rating'] = df.groupby('Name')['Rating'].transform(lambda x: x.fillna(x.mean()))\n",
    "df['Rating'] = df['Rating'].fillna(df['Rating'].mean())\n",
    "\n",
    "print(\"Null values in Price, Discount, and Rating handled successfully.\")"
   ]
  },
  {
   "cell_type": "markdown",
   "metadata": {},
   "source": [
    "### 2. Feature Extraction & Data Structuring "
   ]
  },
  {
   "cell_type": "markdown",
   "metadata": {},
   "source": [
    "Let’s Extract and Standardize Smartphone Brands for Consistency"
   ]
  },
  {
   "cell_type": "code",
   "execution_count": 10,
   "metadata": {},
   "outputs": [],
   "source": [
    "# Extract first word\n",
    "df[\"Brand\"] = df[\"Name\"].str.split().str[0].str.title()\n",
    "\n",
    "# List of valid brands (you can expand this if needed)\n",
    "valid_brands = [\n",
    "    \"Redmi\",\"Realme\",\"Samsung\",\"Vivo\",\"Poco\",\"Motorola\",\"Oppo\",\"Infinix\",\"Iqoo\",\"Tecno\",\n",
    "    \"Oneplus\",\"Itel\",\"Lava\",\"Cmf\",\"Google\",\"Nothing\",\"Apple\",\"Micromax\",\"Nokia\",\n",
    "    \"Honor\",\"Lyf\",\"Karbonn\",\"Gionee\",\"Xolo\",\"Panasonic\",\"Hmd\"\n",
    "]\n",
    "\n",
    "# Clean brands: if not valid, try second word\n",
    "def clean_brand(name):\n",
    "    words = name.split()\n",
    "    if not words:\n",
    "        return \"Unknown\"\n",
    "    first = words[0].title()\n",
    "    if first in valid_brands:\n",
    "        return first\n",
    "    elif len(words) > 1 and words[1].title() in valid_brands:\n",
    "        return words[1].title()\n",
    "    else:\n",
    "        return \"Unknown\"\n",
    "\n",
    "df[\"Brand\"] = df[\"Name\"].apply(clean_brand)"
   ]
  },
  {
   "cell_type": "markdown",
   "metadata": {},
   "source": [
    "- This block separate the brand name from the product title and validates it against a curated list of known smartphone brands.\n",
    "If the first word is invalid, the logic checks the second word, otherwise assigns “Unknown”.\n",
    "This ensures brand-level analysis in Power BI is accurate, clean, and free from noisy or inconsistent entries."
   ]
  },
  {
   "cell_type": "markdown",
   "metadata": {},
   "source": [
    "Let’s extracting Key Smartphone Features for Structured Analysis"
   ]
  },
  {
   "cell_type": "code",
   "execution_count": 11,
   "metadata": {},
   "outputs": [],
   "source": [
    "# Create a new column with phone name before the bracket\n",
    "df['Phone_Model'] = df['Name'].str.split(r'\\(').str[0]\n",
    "df['Phone_Model'] = df['Phone_Model'].str.strip()\n",
    "\n",
    "# Discount cleanup \n",
    "df[\"Discount\"] = (\n",
    "    df[\"Discount\"]\n",
    "    .astype(str)                     # convert to string\n",
    "    .str.replace(\"% off\", \"\", regex=False)   # remove '% off'\n",
    "    .str.replace(\"%\", \"\", regex=False)       # in case only '%' exists\n",
    "    .str.strip()\n",
    ")\n",
    "\n",
    "# Convert Discount to numeric, coercing errors to NaN\n",
    "df[\"Discount\"] = pd.to_numeric(df[\"Discount\"], errors=\"coerce\")\n",
    "\n",
    "# Calculate Original Price\n",
    "df[\"Original_Price\"] = df.apply(\n",
    "    lambda row: round(row[\"Price\"] / (1 - (row[\"Discount\"] / 100)), 2)\n",
    "    if pd.notna(row[\"Price\"]) and pd.notna(row[\"Discount\"]) and row[\"Discount\"] > 0\n",
    "    else row[\"Price\"],\n",
    "    axis=1)\n",
    "\n",
    "# RAM (GB)\n",
    "df[\"RAM_GB\"] = df[\"Specs\"].str.extract(r\"(\\d+)\\s*GB RAM\", expand=False).astype(float)\n",
    "\n",
    "# ROM (GB)\n",
    "df[\"ROM_GB\"] = df[\"Specs\"].str.extract(r\"(\\d+)\\s*GB ROM\", expand=False).astype(float)\n",
    "\n",
    "# Expandable storage\n",
    "df[\"Expandable_Storage\"] = (df[\"Specs\"].str.extract(r\"Expandable Upto\\s*([\\d\\.]+\\s*(?:TB|GB))\", expand=False).str.strip())\n",
    "df[\"Expandable_TB\"] = (df[\"Expandable_Storage\"].str.replace(\"TB\", \"\", case=False, regex=False).str.replace(\"GB\", \"\", case=False, regex=False))\n",
    "\n",
    "# Display size (inches) – inside parentheses\n",
    "df[\"Display_Size_inch\"] = (df[\"Specs\"].str.extract(r\"\\(([\\d\\.]+)\\s*inch\\)\", expand=False)).astype(float)\n",
    "\n",
    "# Display type (HD, FHD, AMOLED, etc.)\n",
    "df[\"Display_Type\"] = df[\"Specs\"].str.extract(r\"(HD\\+|FHD\\+|AMOLED|Super AMOLED|OLED|Retina)\", expand=False)\n",
    "\n",
    "# Rear Camera\n",
    "df[\"RearCam\"] = df[\"Specs\"].str.extract(r\"(\\d+MP[^\\|]*)(?=\\s*\\|)\", expand=False).str.strip()\n",
    "\n",
    "# Front Camera\n",
    "df[\"FrontCam\"] = df[\"Specs\"].str.extract(r\"(\\d+MP)\\s*Front Camera\", expand=False)\n",
    "\n",
    "# Battery (mAh)\n",
    "df[\"Battery_mAh\"] = (df[\"Specs\"].str.extract(r\"(\\d+)\\s*mAh\", expand=False)).astype(float)\n",
    "\n",
    "# Processor (catch text ending with 'Processor')\n",
    "df[\"Processor\"] = df[\"Specs\"].str.extract(r\"([A-Za-z0-9\\s\\+\\-]+Processor)\", expand=False)\n",
    "\n",
    "# Warranty\n",
    "df[\"Warranty_Years\"] = (df[\"Specs\"].str.extract(r\"(\\d+)\\s*Year\", expand=False)).astype(float)"
   ]
  },
  {
   "cell_type": "markdown",
   "metadata": {},
   "source": [
    "- This code block extracts and organizes key smartphone attributes such as RAM, ROM, display size, display type, cameras, battery, and processor. By transforming raw, unstructured text into clean numeric and categorical columns, it prepares the dataset for reliable comparisons, trend analysis, and professional visualizations in tools like Power BI."
   ]
  },
  {
   "cell_type": "markdown",
   "metadata": {},
   "source": [
    "Let’s Organize Columns for a Clean, Business-Ready Dataset"
   ]
  },
  {
   "cell_type": "code",
   "execution_count": 12,
   "metadata": {},
   "outputs": [
    {
     "name": "stdout",
     "output_type": "stream",
     "text": [
      "Columns reordered & saved as 'flipkart_smartphones_organized.csv'\n"
     ]
    }
   ],
   "source": [
    "# Define the ideal column order for structured output\n",
    "ideal_order = [\n",
    "    \"Brand\",\n",
    "    \"Phone_Model\",\n",
    "    \"Name\",\n",
    "    \"Price\",\n",
    "    \"Original_Price\",\n",
    "    \"Discount\",\n",
    "    \"Rating\",\n",
    "    \"RAM_GB\",\n",
    "    \"ROM_GB\",\n",
    "    \"Display_Size_inch\",\n",
    "    \"Display_Type\",\n",
    "    \"RearCam\",\n",
    "    \"FrontCam\",\n",
    "    \"Battery_mAh\",\n",
    "    \"Processor\",\n",
    "    \"Warranty_Years\",\n",
    "    \"Specs\"\n",
    "]\n",
    "\n",
    "# Reorder dataframe columns while ignoring any missing ones\n",
    "df = df[[col for col in ideal_order if col in df.columns]]\n",
    "\n",
    "# Save the organized dataset\n",
    "output_file = \"flipkart_smartphones_organized.csv\"\n",
    "df.to_csv(output_file, index=False)\n",
    "\n",
    "print(f\"Columns reordered & saved as '{output_file}'\")\n"
   ]
  },
  {
   "cell_type": "markdown",
   "metadata": {},
   "source": [
    "- This block rearranges the dataset into an ideal column order for better readability and structured analysis.\n",
    "It then saves the final version as a clean CSV file, ensuring the dataset is well-organized, consistent, and ready for Power BI integration."
   ]
  },
  {
   "cell_type": "markdown",
   "metadata": {},
   "source": [
    "### 3. Data Cleaning & Preprocessing"
   ]
  },
  {
   "cell_type": "markdown",
   "metadata": {},
   "source": [
    "Let’s Reload the Final Organized Dataset"
   ]
  },
  {
   "cell_type": "code",
   "execution_count": 13,
   "metadata": {},
   "outputs": [],
   "source": [
    "new_df = pd.read_csv(\"flipkart_smartphones_organized.csv\")"
   ]
  },
  {
   "cell_type": "markdown",
   "metadata": {},
   "source": [
    "Let’s Inspect the Dataset Structure and Data Types"
   ]
  },
  {
   "cell_type": "code",
   "execution_count": 14,
   "metadata": {},
   "outputs": [
    {
     "name": "stdout",
     "output_type": "stream",
     "text": [
      "<class 'pandas.core.frame.DataFrame'>\n",
      "RangeIndex: 843 entries, 0 to 842\n",
      "Data columns (total 17 columns):\n",
      " #   Column             Non-Null Count  Dtype  \n",
      "---  ------             --------------  -----  \n",
      " 0   Brand              843 non-null    object \n",
      " 1   Phone_Model        843 non-null    object \n",
      " 2   Name               843 non-null    object \n",
      " 3   Price              843 non-null    int64  \n",
      " 4   Original_Price     843 non-null    float64\n",
      " 5   Discount           843 non-null    int64  \n",
      " 6   Rating             843 non-null    float64\n",
      " 7   RAM_GB             823 non-null    float64\n",
      " 8   ROM_GB             832 non-null    float64\n",
      " 9   Display_Size_inch  831 non-null    float64\n",
      " 10  Display_Type       486 non-null    object \n",
      " 11  RearCam            678 non-null    object \n",
      " 12  FrontCam           658 non-null    object \n",
      " 13  Battery_mAh        831 non-null    float64\n",
      " 14  Processor          687 non-null    object \n",
      " 15  Warranty_Years     760 non-null    float64\n",
      " 16  Specs              843 non-null    object \n",
      "dtypes: float64(7), int64(2), object(8)\n",
      "memory usage: 112.1+ KB\n"
     ]
    }
   ],
   "source": [
    "new_df.info()"
   ]
  },
  {
   "cell_type": "markdown",
   "metadata": {},
   "source": [
    "Let’s Rechecking for missing values in the dataset again."
   ]
  },
  {
   "cell_type": "code",
   "execution_count": 15,
   "metadata": {},
   "outputs": [
    {
     "data": {
      "text/plain": [
       "Brand                  0\n",
       "Phone_Model            0\n",
       "Name                   0\n",
       "Price                  0\n",
       "Original_Price         0\n",
       "Discount               0\n",
       "Rating                 0\n",
       "RAM_GB                20\n",
       "ROM_GB                11\n",
       "Display_Size_inch     12\n",
       "Display_Type         357\n",
       "RearCam              165\n",
       "FrontCam             185\n",
       "Battery_mAh           12\n",
       "Processor            156\n",
       "Warranty_Years        83\n",
       "Specs                  0\n",
       "dtype: int64"
      ]
     },
     "execution_count": 15,
     "metadata": {},
     "output_type": "execute_result"
    }
   ],
   "source": [
    "new_df.isnull().sum()"
   ]
  },
  {
   "cell_type": "markdown",
   "metadata": {},
   "source": [
    "Let's Impute Missing Data for RAM, ROM, Display, Camera, Battery, and Processor"
   ]
  },
  {
   "cell_type": "code",
   "execution_count": 23,
   "metadata": {},
   "outputs": [
    {
     "name": "stderr",
     "output_type": "stream",
     "text": [
      "c:\\Users\\HETVI\\AppData\\Local\\Programs\\Python\\Python313\\Lib\\site-packages\\numpy\\lib\\_nanfunctions_impl.py:1215: RuntimeWarning: Mean of empty slice\n",
      "  return np.nanmean(a, axis, out=out, keepdims=keepdims)\n",
      "c:\\Users\\HETVI\\AppData\\Local\\Programs\\Python\\Python313\\Lib\\site-packages\\numpy\\lib\\_nanfunctions_impl.py:1215: RuntimeWarning: Mean of empty slice\n",
      "  return np.nanmean(a, axis, out=out, keepdims=keepdims)\n",
      "c:\\Users\\HETVI\\AppData\\Local\\Programs\\Python\\Python313\\Lib\\site-packages\\numpy\\lib\\_nanfunctions_impl.py:1215: RuntimeWarning: Mean of empty slice\n",
      "  return np.nanmean(a, axis, out=out, keepdims=keepdims)\n"
     ]
    }
   ],
   "source": [
    "# 1. RAM_GB - usually standard sizes (4, 6, 8, 12, etc.)\n",
    "df['RAM_GB'] = df.groupby('Brand')['RAM_GB'].transform(lambda x: x.fillna(x.median()))\n",
    "df['RAM_GB'] = df['RAM_GB'].fillna(df['RAM_GB'].median())  # fallback\n",
    "\n",
    "# 2. ROM_GB - similar (32, 64, 128, 256, etc.)\n",
    "df['ROM_GB'] = df.groupby('Brand')['ROM_GB'].transform(lambda x: x.fillna(x.median()))\n",
    "df['ROM_GB'] = df['ROM_GB'].fillna(df['ROM_GB'].median())\n",
    "\n",
    "# 3. Display_Size_inch - continuous numeric (5.5–6.8 range)\n",
    "df['Display_Size_inch'] = df.groupby('Brand')['Display_Size_inch'].transform(lambda x: x.fillna(x.mean()) if x.notna().any() else x)\n",
    "df['Display_Size_inch'] = df['Display_Size_inch'].fillna(df['Display_Size_inch'].mean())\n",
    "\n",
    "# 4. Display_Type - categorical (HD+, FHD+, AMOLED, Super AMOLED, etc.)\n",
    "df['Display_Type'] = df['Display_Type'].fillna(df['Display_Type'].mode()[0])\n",
    "\n",
    "# 5. Camera - string (Rear + Front megapixels)\n",
    "df['RearCam'] = df['RearCam'].fillna('Not Specified')\n",
    "df['FrontCam'] = df['FrontCam'].fillna('Not Specified')\n",
    "\n",
    "# 6. Battery_mAh - numeric (common values: 4000, 5000, 6000)\n",
    "df['Battery_mAh'] = df.groupby('Brand')['Battery_mAh'].transform(lambda x: x.fillna(x.median()) if x.notna().any() else x)\n",
    "df['Battery_mAh'] = df['Battery_mAh'].fillna(df['Battery_mAh'].median())\n",
    "\n",
    "# 7. Processor - text (Helio, Snapdragon, Dimensity, etc.)\n",
    "df['Processor'] = df['Processor'].fillna('Not Specified')\n",
    "\n",
    "# 8. Warranty_Years - numeric (1, 2, etc.)\n",
    "df['Warranty_Years'] = df['Warranty_Years'].fillna(1)  \n"
   ]
  },
  {
   "cell_type": "markdown",
   "metadata": {},
   "source": [
    "- This block filled missing values with brand-wise median/mean (with global fallback) for RAM, ROM, Display Size, Battery.\n",
    "Categorical fields (Display Type, Camera, Processor) were filled with mode or default labels."
   ]
  },
  {
   "cell_type": "code",
   "execution_count": 24,
   "metadata": {},
   "outputs": [
    {
     "data": {
      "text/plain": [
       "Brand                0\n",
       "Phone_Model          0\n",
       "Name                 0\n",
       "Price                0\n",
       "Original_Price       0\n",
       "Discount             0\n",
       "Rating               0\n",
       "RAM_GB               0\n",
       "ROM_GB               0\n",
       "Display_Size_inch    0\n",
       "Display_Type         0\n",
       "RearCam              0\n",
       "FrontCam             0\n",
       "Battery_mAh          0\n",
       "Processor            0\n",
       "Warranty_Years       0\n",
       "Specs                0\n",
       "dtype: int64"
      ]
     },
     "execution_count": 24,
     "metadata": {},
     "output_type": "execute_result"
    }
   ],
   "source": [
    "df.isnull().sum()"
   ]
  },
  {
   "cell_type": "markdown",
   "metadata": {},
   "source": [
    "Let's View the Statistical Summary of Numeric Columns"
   ]
  },
  {
   "cell_type": "code",
   "execution_count": 25,
   "metadata": {},
   "outputs": [
    {
     "data": {
      "text/html": [
       "<div>\n",
       "<style scoped>\n",
       "    .dataframe tbody tr th:only-of-type {\n",
       "        vertical-align: middle;\n",
       "    }\n",
       "\n",
       "    .dataframe tbody tr th {\n",
       "        vertical-align: top;\n",
       "    }\n",
       "\n",
       "    .dataframe thead th {\n",
       "        text-align: right;\n",
       "    }\n",
       "</style>\n",
       "<table border=\"1\" class=\"dataframe\">\n",
       "  <thead>\n",
       "    <tr style=\"text-align: right;\">\n",
       "      <th></th>\n",
       "      <th>count</th>\n",
       "      <th>mean</th>\n",
       "      <th>std</th>\n",
       "      <th>min</th>\n",
       "      <th>25%</th>\n",
       "      <th>50%</th>\n",
       "      <th>75%</th>\n",
       "      <th>max</th>\n",
       "    </tr>\n",
       "  </thead>\n",
       "  <tbody>\n",
       "    <tr>\n",
       "      <th>Price</th>\n",
       "      <td>843.0</td>\n",
       "      <td>20661.128114</td>\n",
       "      <td>16033.677143</td>\n",
       "      <td>745.00</td>\n",
       "      <td>10096.00</td>\n",
       "      <td>15999.00</td>\n",
       "      <td>25999.00</td>\n",
       "      <td>124999.00</td>\n",
       "    </tr>\n",
       "    <tr>\n",
       "      <th>Original_Price</th>\n",
       "      <td>843.0</td>\n",
       "      <td>25682.504828</td>\n",
       "      <td>18996.483952</td>\n",
       "      <td>1482.14</td>\n",
       "      <td>13854.22</td>\n",
       "      <td>20767.69</td>\n",
       "      <td>32907.67</td>\n",
       "      <td>164382.19</td>\n",
       "    </tr>\n",
       "    <tr>\n",
       "      <th>Discount</th>\n",
       "      <td>843.0</td>\n",
       "      <td>20.729537</td>\n",
       "      <td>10.548290</td>\n",
       "      <td>0.00</td>\n",
       "      <td>13.00</td>\n",
       "      <td>20.00</td>\n",
       "      <td>28.00</td>\n",
       "      <td>55.00</td>\n",
       "    </tr>\n",
       "    <tr>\n",
       "      <th>Rating</th>\n",
       "      <td>843.0</td>\n",
       "      <td>4.306763</td>\n",
       "      <td>0.189893</td>\n",
       "      <td>2.30</td>\n",
       "      <td>4.20</td>\n",
       "      <td>4.30</td>\n",
       "      <td>4.40</td>\n",
       "      <td>4.90</td>\n",
       "    </tr>\n",
       "    <tr>\n",
       "      <th>RAM_GB</th>\n",
       "      <td>843.0</td>\n",
       "      <td>7.223013</td>\n",
       "      <td>2.889097</td>\n",
       "      <td>1.00</td>\n",
       "      <td>4.00</td>\n",
       "      <td>8.00</td>\n",
       "      <td>8.00</td>\n",
       "      <td>16.00</td>\n",
       "    </tr>\n",
       "    <tr>\n",
       "      <th>ROM_GB</th>\n",
       "      <td>843.0</td>\n",
       "      <td>172.631079</td>\n",
       "      <td>100.830755</td>\n",
       "      <td>8.00</td>\n",
       "      <td>128.00</td>\n",
       "      <td>128.00</td>\n",
       "      <td>256.00</td>\n",
       "      <td>512.00</td>\n",
       "    </tr>\n",
       "    <tr>\n",
       "      <th>Display_Size_inch</th>\n",
       "      <td>843.0</td>\n",
       "      <td>6.627081</td>\n",
       "      <td>0.490595</td>\n",
       "      <td>1.77</td>\n",
       "      <td>6.67</td>\n",
       "      <td>6.70</td>\n",
       "      <td>6.77</td>\n",
       "      <td>7.60</td>\n",
       "    </tr>\n",
       "    <tr>\n",
       "      <th>Battery_mAh</th>\n",
       "      <td>843.0</td>\n",
       "      <td>5462.080664</td>\n",
       "      <td>877.247901</td>\n",
       "      <td>800.00</td>\n",
       "      <td>5000.00</td>\n",
       "      <td>5160.00</td>\n",
       "      <td>6000.00</td>\n",
       "      <td>7550.00</td>\n",
       "    </tr>\n",
       "    <tr>\n",
       "      <th>Warranty_Years</th>\n",
       "      <td>843.0</td>\n",
       "      <td>1.001186</td>\n",
       "      <td>0.034442</td>\n",
       "      <td>1.00</td>\n",
       "      <td>1.00</td>\n",
       "      <td>1.00</td>\n",
       "      <td>1.00</td>\n",
       "      <td>2.00</td>\n",
       "    </tr>\n",
       "  </tbody>\n",
       "</table>\n",
       "</div>"
      ],
      "text/plain": [
       "                   count          mean           std      min       25%  \\\n",
       "Price              843.0  20661.128114  16033.677143   745.00  10096.00   \n",
       "Original_Price     843.0  25682.504828  18996.483952  1482.14  13854.22   \n",
       "Discount           843.0     20.729537     10.548290     0.00     13.00   \n",
       "Rating             843.0      4.306763      0.189893     2.30      4.20   \n",
       "RAM_GB             843.0      7.223013      2.889097     1.00      4.00   \n",
       "ROM_GB             843.0    172.631079    100.830755     8.00    128.00   \n",
       "Display_Size_inch  843.0      6.627081      0.490595     1.77      6.67   \n",
       "Battery_mAh        843.0   5462.080664    877.247901   800.00   5000.00   \n",
       "Warranty_Years     843.0      1.001186      0.034442     1.00      1.00   \n",
       "\n",
       "                        50%       75%        max  \n",
       "Price              15999.00  25999.00  124999.00  \n",
       "Original_Price     20767.69  32907.67  164382.19  \n",
       "Discount              20.00     28.00      55.00  \n",
       "Rating                 4.30      4.40       4.90  \n",
       "RAM_GB                 8.00      8.00      16.00  \n",
       "ROM_GB               128.00    256.00     512.00  \n",
       "Display_Size_inch      6.70      6.77       7.60  \n",
       "Battery_mAh         5160.00   6000.00    7550.00  \n",
       "Warranty_Years         1.00      1.00       2.00  "
      ]
     },
     "execution_count": 25,
     "metadata": {},
     "output_type": "execute_result"
    }
   ],
   "source": [
    "df.describe().T "
   ]
  },
  {
   "cell_type": "markdown",
   "metadata": {},
   "source": [
    "Let's View the Summary of categoriacl Columns"
   ]
  },
  {
   "cell_type": "code",
   "execution_count": 26,
   "metadata": {},
   "outputs": [
    {
     "data": {
      "text/html": [
       "<div>\n",
       "<style scoped>\n",
       "    .dataframe tbody tr th:only-of-type {\n",
       "        vertical-align: middle;\n",
       "    }\n",
       "\n",
       "    .dataframe tbody tr th {\n",
       "        vertical-align: top;\n",
       "    }\n",
       "\n",
       "    .dataframe thead th {\n",
       "        text-align: right;\n",
       "    }\n",
       "</style>\n",
       "<table border=\"1\" class=\"dataframe\">\n",
       "  <thead>\n",
       "    <tr style=\"text-align: right;\">\n",
       "      <th></th>\n",
       "      <th>count</th>\n",
       "      <th>unique</th>\n",
       "      <th>top</th>\n",
       "      <th>freq</th>\n",
       "    </tr>\n",
       "  </thead>\n",
       "  <tbody>\n",
       "    <tr>\n",
       "      <th>Brand</th>\n",
       "      <td>843</td>\n",
       "      <td>24</td>\n",
       "      <td>Realme</td>\n",
       "      <td>129</td>\n",
       "    </tr>\n",
       "    <tr>\n",
       "      <th>Phone_Model</th>\n",
       "      <td>843</td>\n",
       "      <td>285</td>\n",
       "      <td>Nothing Phone</td>\n",
       "      <td>13</td>\n",
       "    </tr>\n",
       "    <tr>\n",
       "      <th>Name</th>\n",
       "      <td>843</td>\n",
       "      <td>704</td>\n",
       "      <td>IQOO Z10X 5G (Titanium, 128 GB)</td>\n",
       "      <td>4</td>\n",
       "    </tr>\n",
       "    <tr>\n",
       "      <th>Display_Type</th>\n",
       "      <td>843</td>\n",
       "      <td>3</td>\n",
       "      <td>HD+</td>\n",
       "      <td>828</td>\n",
       "    </tr>\n",
       "    <tr>\n",
       "      <th>RearCam</th>\n",
       "      <td>843</td>\n",
       "      <td>82</td>\n",
       "      <td>Not Specified</td>\n",
       "      <td>165</td>\n",
       "    </tr>\n",
       "    <tr>\n",
       "      <th>FrontCam</th>\n",
       "      <td>843</td>\n",
       "      <td>15</td>\n",
       "      <td>Not Specified</td>\n",
       "      <td>185</td>\n",
       "    </tr>\n",
       "    <tr>\n",
       "      <th>Processor</th>\n",
       "      <td>843</td>\n",
       "      <td>151</td>\n",
       "      <td>Not Specified</td>\n",
       "      <td>156</td>\n",
       "    </tr>\n",
       "    <tr>\n",
       "      <th>Specs</th>\n",
       "      <td>843</td>\n",
       "      <td>469</td>\n",
       "      <td>6 GB RAM | 128 GB ROM | Expandable Upto 1 TB; ...</td>\n",
       "      <td>8</td>\n",
       "    </tr>\n",
       "  </tbody>\n",
       "</table>\n",
       "</div>"
      ],
      "text/plain": [
       "             count unique                                                top  \\\n",
       "Brand          843     24                                             Realme   \n",
       "Phone_Model    843    285                                      Nothing Phone   \n",
       "Name           843    704                    IQOO Z10X 5G (Titanium, 128 GB)   \n",
       "Display_Type   843      3                                                HD+   \n",
       "RearCam        843     82                                      Not Specified   \n",
       "FrontCam       843     15                                      Not Specified   \n",
       "Processor      843    151                                      Not Specified   \n",
       "Specs          843    469  6 GB RAM | 128 GB ROM | Expandable Upto 1 TB; ...   \n",
       "\n",
       "             freq  \n",
       "Brand         129  \n",
       "Phone_Model    13  \n",
       "Name            4  \n",
       "Display_Type  828  \n",
       "RearCam       165  \n",
       "FrontCam      185  \n",
       "Processor     156  \n",
       "Specs           8  "
      ]
     },
     "execution_count": 26,
     "metadata": {},
     "output_type": "execute_result"
    }
   ],
   "source": [
    "df.describe(include='object').T "
   ]
  },
  {
   "cell_type": "markdown",
   "metadata": {},
   "source": [
    "Let's Identify Outliers in All Numeric Features Using the IQR Method"
   ]
  },
  {
   "cell_type": "code",
   "execution_count": 27,
   "metadata": {},
   "outputs": [
    {
     "name": "stdout",
     "output_type": "stream",
     "text": [
      "Price: 41 outliers\n",
      "Original_Price: 35 outliers\n",
      "Discount: 6 outliers\n",
      "Rating: 13 outliers\n",
      "RAM_GB: 16 outliers\n",
      "ROM_GB: 36 outliers\n",
      "Display_Size_inch: 91 outliers\n",
      "Battery_mAh: 25 outliers\n",
      "Warranty_Years: 1 outliers\n"
     ]
    }
   ],
   "source": [
    "num_col = df.select_dtypes(include=['float64', 'int64']).columns\n",
    "\n",
    "for col in num_col:\n",
    "    Q1 = df[col].quantile(0.25)\n",
    "    Q3 = df[col].quantile(0.75)\n",
    "    IQR = Q3 - Q1\n",
    "    lower = Q1 - 1.5 * IQR\n",
    "    upper = Q3 + 1.5 * IQR\n",
    "    outliers = df[(df[col] < lower) | (df[col] > upper)]\n",
    "    print(f\"{col}: {outliers.shape[0]} outliers\")"
   ]
  },
  {
   "cell_type": "markdown",
   "metadata": {},
   "source": [
    "Let's Cap Outliers in Numeric Columns Using the IQR Method"
   ]
  },
  {
   "cell_type": "code",
   "execution_count": 28,
   "metadata": {},
   "outputs": [
    {
     "name": "stdout",
     "output_type": "stream",
     "text": [
      "Price: 41 outliers capped\n"
     ]
    },
    {
     "data": {
      "image/png": "[encoded data removed]",
      "text/plain": [
       "<Figure size 1500x300 with 2 Axes>"
      ]
     },
     "metadata": {},
     "output_type": "display_data"
    },
    {
     "name": "stdout",
     "output_type": "stream",
     "text": [
      "Original_Price: 35 outliers capped\n"
     ]
    },
    {
     "data": {
      "image/png": "[encoded data removed]",
      "text/plain": [
       "<Figure size 1500x300 with 2 Axes>"
      ]
     },
     "metadata": {},
     "output_type": "display_data"
    },
    {
     "name": "stdout",
     "output_type": "stream",
     "text": [
      "Discount: 6 outliers capped\n"
     ]
    },
    {
     "data": {
      "image/png": "[encoded data removed]",
      "text/plain": [
       "<Figure size 1500x300 with 2 Axes>"
      ]
     },
     "metadata": {},
     "output_type": "display_data"
    },
    {
     "name": "stdout",
     "output_type": "stream",
     "text": [
      "Rating: 13 outliers capped\n"
     ]
    },
    {
     "data": {
      "image/png": "[encoded data removed]",
      "text/plain": [
       "<Figure size 1500x300 with 2 Axes>"
      ]
     },
     "metadata": {},
     "output_type": "display_data"
    },
    {
     "name": "stdout",
     "output_type": "stream",
     "text": [
      "RAM_GB: 16 outliers capped\n"
     ]
    },
    {
     "data": {
      "image/png": "[encoded data removed]",
      "text/plain": [
       "<Figure size 1500x300 with 2 Axes>"
      ]
     },
     "metadata": {},
     "output_type": "display_data"
    },
    {
     "name": "stdout",
     "output_type": "stream",
     "text": [
      "ROM_GB: 36 outliers capped\n"
     ]
    },
    {
     "data": {
      "image/png": "[encoded data removed]",
      "text/plain": [
       "<Figure size 1500x300 with 2 Axes>"
      ]
     },
     "metadata": {},
     "output_type": "display_data"
    },
    {
     "name": "stdout",
     "output_type": "stream",
     "text": [
      "Display_Size_inch: 91 outliers capped\n"
     ]
    },
    {
     "data": {
      "image/png": "[encoded data removed]",
      "text/plain": [
       "<Figure size 1500x300 with 2 Axes>"
      ]
     },
     "metadata": {},
     "output_type": "display_data"
    },
    {
     "name": "stdout",
     "output_type": "stream",
     "text": [
      "Battery_mAh: 25 outliers capped\n"
     ]
    },
    {
     "data": {
      "image/png": "[encoded data removed]",
      "text/plain": [
       "<Figure size 1500x300 with 2 Axes>"
      ]
     },
     "metadata": {},
     "output_type": "display_data"
    },
    {
     "name": "stdout",
     "output_type": "stream",
     "text": [
      "Warranty_Years: 1 outliers capped\n"
     ]
    },
    {
     "data": {
      "image/png": "[encoded data removed]",
      "text/plain": [
       "<Figure size 1500x300 with 2 Axes>"
      ]
     },
     "metadata": {},
     "output_type": "display_data"
    }
   ],
   "source": [
    "for col in num_col:\n",
    "\n",
    "    Q1 = df[col].quantile(0.25)\n",
    "    Q3 = df[col].quantile(0.75)\n",
    "    IQR = Q3 - Q1\n",
    "    lower = Q1 - 1.5 * IQR\n",
    "    upper = Q3 + 1.5 * IQR\n",
    "\n",
    "    # Count outliers\n",
    "    outliers = df[(df[col] < lower) | (df[col] > upper)]\n",
    "    print(f\"{col}: {outliers.shape[0]} outliers capped\")\n",
    "\n",
    "    # Create capped version\n",
    "    capped_col = f\"{col}_iqr_capped\"\n",
    "    df[capped_col] = df[col].clip(lower=lower, upper=upper)\n",
    "    \n",
    "    fig, axes = plt.subplots(nrows=1, ncols=2, figsize=(15, 3))\n",
    "    sns.boxplot(x=df[col], ax=axes[0], color='#C39898')\n",
    "    axes[0].set_title(f\"Before Capping: {col}\")\n",
    "    sns.boxplot(x=df[capped_col], ax=axes[1], color='#DBB5B5')\n",
    "    axes[1].set_title(f\"After IQR Capping: {capped_col}\")\n",
    "    plt.tight_layout()\n",
    "    plt.show()\n",
    "    \n",
    "    df[col] = df[capped_col]\n",
    "    df.drop(columns=[capped_col], inplace=True)"
   ]
  },
  {
   "cell_type": "markdown",
   "metadata": {},
   "source": [
    "- Identified outliers in numeric columns using the IQR method.\n",
    "- Capped outliers to lower and upper IQR bounds to reduce their impact.\n",
    "- Visualized before and after capping with boxplots for better understanding."
   ]
  },
  {
   "cell_type": "markdown",
   "metadata": {},
   "source": [
    "Let's save the cleaned dataset for visualization."
   ]
  },
  {
   "cell_type": "code",
   "execution_count": 29,
   "metadata": {},
   "outputs": [],
   "source": [
    "df.to_csv(\"flipkart_smartphones_cleaned.csv\", index=False)"
   ]
  },
  {
   "cell_type": "markdown",
   "metadata": {},
   "source": [
    "---"
   ]
  },
  {
   "cell_type": "markdown",
   "metadata": {},
   "source": [
    "### Phase 3 Conclusion & Next Steps  \n",
    "\n",
    "In this phase, we successfully:  \n",
    "- Cleaned and standardized the Flipkart Smartphone dataset.  \n",
    "- Handled missing values, duplicates, and feature inconsistencies.  \n",
    "- Engineered key attributes such as RAM, ROM, Display, and Battery.  \n",
    "- Capped outliers to stabilize extreme variations without removing valuable signals.  \n",
    "- Structured the dataset for smooth integration into Power BI.  \n",
    " "
   ]
  },
  {
   "cell_type": "markdown",
   "metadata": {},
   "source": [
    "---"
   ]
  },
  {
   "cell_type": "markdown",
   "metadata": {},
   "source": [
    "### Next Steps (Phase 4 – Visualization & Insights)\n",
    " \n",
    "The cleaned dataset will be imported into Power BI to:  \n",
    "- Track real-time pricing and discount trends.  \n",
    "- Identify smartphone segments with aggressive discount strategies.  \n",
    "- Compare product pricing against specifications (RAM, Battery, Storage, etc.).  \n",
    "- Deliver actionable insights for competitive positioning and market strategy. "
   ]
  },
  {
   "cell_type": "markdown",
   "metadata": {},
   "source": [
    "---\n",
    "---"
   ]
  }
 ],
 "metadata": {
  "kernelspec": {
   "display_name": "Python 3",
   "language": "python",
   "name": "python3"
  },
  "language_info": {
   "codemirror_mode": {
    "name": "ipython",
    "version": 3
   },
   "file_extension": ".py",
   "mimetype": "text/x-python",
   "name": "python",
   "nbconvert_exporter": "python",
   "pygments_lexer": "ipython3",
   "version": "3.13.1"
  }
 },
 "nbformat": 4,
 "nbformat_minor": 2
}
